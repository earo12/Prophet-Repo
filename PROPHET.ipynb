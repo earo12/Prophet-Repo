{
  "nbformat": 4,
  "nbformat_minor": 0,
  "metadata": {
    "colab": {
      "provenance": [],
      "authorship_tag": "ABX9TyO28UgubWe4/3fN9h9lo4JY",
      "include_colab_link": true
    },
    "kernelspec": {
      "name": "python3",
      "display_name": "Python 3"
    },
    "language_info": {
      "name": "python"
    }
  },
  "cells": [
    {
      "cell_type": "markdown",
      "metadata": {
        "id": "view-in-github",
        "colab_type": "text"
      },
      "source": [
        "<a href=\"https://colab.research.google.com/github/earo12/Prophet-Repo/blob/main/PROPHET.ipynb\" target=\"_parent\"><img src=\"https://colab.research.google.com/assets/colab-badge.svg\" alt=\"Open In Colab\"/></a>"
      ]
    },
    {
      "cell_type": "code",
      "execution_count": 1,
      "metadata": {
        "colab": {
          "base_uri": "https://localhost:8080/"
        },
        "id": "-WpXl8URB-we",
        "outputId": "16547c9a-72ba-4491-aece-fa8f8314008f"
      },
      "outputs": [
        {
          "output_type": "stream",
          "name": "stdout",
          "text": [
            "Collecting meteostat\n",
            "  Downloading meteostat-1.6.8-py3-none-any.whl.metadata (4.6 kB)\n",
            "Requirement already satisfied: pandas>=1.1 in /usr/local/lib/python3.10/dist-packages (from meteostat) (2.1.4)\n",
            "Requirement already satisfied: pytz in /usr/local/lib/python3.10/dist-packages (from meteostat) (2024.1)\n",
            "Requirement already satisfied: numpy in /usr/local/lib/python3.10/dist-packages (from meteostat) (1.26.4)\n",
            "Requirement already satisfied: python-dateutil>=2.8.2 in /usr/local/lib/python3.10/dist-packages (from pandas>=1.1->meteostat) (2.8.2)\n",
            "Requirement already satisfied: tzdata>=2022.1 in /usr/local/lib/python3.10/dist-packages (from pandas>=1.1->meteostat) (2024.1)\n",
            "Requirement already satisfied: six>=1.5 in /usr/local/lib/python3.10/dist-packages (from python-dateutil>=2.8.2->pandas>=1.1->meteostat) (1.16.0)\n",
            "Downloading meteostat-1.6.8-py3-none-any.whl (31 kB)\n",
            "Installing collected packages: meteostat\n",
            "Successfully installed meteostat-1.6.8\n",
            "Requirement already satisfied: prophet in /usr/local/lib/python3.10/dist-packages (1.1.5)\n",
            "Requirement already satisfied: cmdstanpy>=1.0.4 in /usr/local/lib/python3.10/dist-packages (from prophet) (1.2.4)\n",
            "Requirement already satisfied: numpy>=1.15.4 in /usr/local/lib/python3.10/dist-packages (from prophet) (1.26.4)\n",
            "Requirement already satisfied: matplotlib>=2.0.0 in /usr/local/lib/python3.10/dist-packages (from prophet) (3.7.1)\n",
            "Requirement already satisfied: pandas>=1.0.4 in /usr/local/lib/python3.10/dist-packages (from prophet) (2.1.4)\n",
            "Requirement already satisfied: holidays>=0.25 in /usr/local/lib/python3.10/dist-packages (from prophet) (0.53)\n",
            "Requirement already satisfied: tqdm>=4.36.1 in /usr/local/lib/python3.10/dist-packages (from prophet) (4.66.4)\n",
            "Requirement already satisfied: importlib-resources in /usr/local/lib/python3.10/dist-packages (from prophet) (6.4.0)\n",
            "Requirement already satisfied: stanio<2.0.0,>=0.4.0 in /usr/local/lib/python3.10/dist-packages (from cmdstanpy>=1.0.4->prophet) (0.5.1)\n",
            "Requirement already satisfied: python-dateutil in /usr/local/lib/python3.10/dist-packages (from holidays>=0.25->prophet) (2.8.2)\n",
            "Requirement already satisfied: contourpy>=1.0.1 in /usr/local/lib/python3.10/dist-packages (from matplotlib>=2.0.0->prophet) (1.2.1)\n",
            "Requirement already satisfied: cycler>=0.10 in /usr/local/lib/python3.10/dist-packages (from matplotlib>=2.0.0->prophet) (0.12.1)\n",
            "Requirement already satisfied: fonttools>=4.22.0 in /usr/local/lib/python3.10/dist-packages (from matplotlib>=2.0.0->prophet) (4.53.1)\n",
            "Requirement already satisfied: kiwisolver>=1.0.1 in /usr/local/lib/python3.10/dist-packages (from matplotlib>=2.0.0->prophet) (1.4.5)\n",
            "Requirement already satisfied: packaging>=20.0 in /usr/local/lib/python3.10/dist-packages (from matplotlib>=2.0.0->prophet) (24.1)\n",
            "Requirement already satisfied: pillow>=6.2.0 in /usr/local/lib/python3.10/dist-packages (from matplotlib>=2.0.0->prophet) (9.4.0)\n",
            "Requirement already satisfied: pyparsing>=2.3.1 in /usr/local/lib/python3.10/dist-packages (from matplotlib>=2.0.0->prophet) (3.1.2)\n",
            "Requirement already satisfied: pytz>=2020.1 in /usr/local/lib/python3.10/dist-packages (from pandas>=1.0.4->prophet) (2024.1)\n",
            "Requirement already satisfied: tzdata>=2022.1 in /usr/local/lib/python3.10/dist-packages (from pandas>=1.0.4->prophet) (2024.1)\n",
            "Requirement already satisfied: six>=1.5 in /usr/local/lib/python3.10/dist-packages (from python-dateutil->holidays>=0.25->prophet) (1.16.0)\n"
          ]
        }
      ],
      "source": [
        "!pip install meteostat\n",
        "!pip install prophet\n",
        "import pandas as pd\n",
        "import numpy as np\n",
        "import matplotlib.pyplot as plt\n",
        "\n",
        "from meteostat import Stations, Daily\n",
        "from datetime import datetime\n",
        "from prophet import Prophet\n",
        "from prophet.plot import add_changepoints_to_plot\n",
        "from prophet.diagnostics import cross_validation, performance_metrics\n",
        "from prophet.plot import plot_cross_validation_metric"
      ]
    },
    {
      "cell_type": "markdown",
      "source": [
        "# Metología Prophet para pronósticos de series de tiempo\n",
        "La metodología Prophet es usada  por Taylor y Letham (2018) [1]. Se utilizan tres componentes en el modelo: tendencia, estacionalidad y efecto de vacaciones (hollidays).\n",
        "$$\n",
        "Y_t=g_t+s_t+h_t+e_t\n",
        "$$\n",
        "Donde $g_t$  es la función de tendencia que modela cambios no periódicos en el valor de la serie de tiempo,\n",
        "$s_t$  representa cambios periódicos (estacionalidad semanal y anual),\n",
        "$h_t$  representa los efectos de las vacaciones.\n",
        "La especificación Prophet es una clase de modelos de regresión con suavizadores (smoothers) potencialmente no lineales aplicados a la regresores\n",
        "\n",
        "[1] Taylor, S. & Letham, Benjamin (2018). Forecasting at Scale. The American Statistician. (72)1, 37-45."
      ],
      "metadata": {
        "id": "Heh99Jl31hM8"
      }
    },
    {
      "cell_type": "code",
      "source": [],
      "metadata": {
        "id": "arvmwft61_Ok"
      },
      "execution_count": null,
      "outputs": []
    },
    {
      "cell_type": "code",
      "source": [],
      "metadata": {
        "id": "ymPpwg3h1_xn"
      },
      "execution_count": null,
      "outputs": []
    }
  ]
}